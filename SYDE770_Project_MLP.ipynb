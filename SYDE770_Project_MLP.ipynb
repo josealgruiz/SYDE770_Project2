{
  "nbformat": 4,
  "nbformat_minor": 0,
  "metadata": {
    "colab": {
      "name": "SYDE770_Project_MLP.ipynb",
      "provenance": [],
      "authorship_tag": "ABX9TyNE5eY5zEKLdlY3UP6hmznM",
      "include_colab_link": true
    },
    "kernelspec": {
      "name": "python3",
      "display_name": "Python 3"
    },
    "language_info": {
      "name": "python"
    }
  },
  "cells": [
    {
      "cell_type": "markdown",
      "metadata": {
        "id": "view-in-github",
        "colab_type": "text"
      },
      "source": [
        "<a href=\"https://colab.research.google.com/github/josealgruiz/SYDE_Project2/blob/main/SYDE770_Project_MLP.ipynb\" target=\"_parent\"><img src=\"https://colab.research.google.com/assets/colab-badge.svg\" alt=\"Open In Colab\"/></a>"
      ]
    },
    {
      "cell_type": "markdown",
      "source": [
        "Importing the Required Libraries"
      ],
      "metadata": {
        "id": "xazuhBcHtyri"
      }
    },
    {
      "cell_type": "code",
      "execution_count": null,
      "metadata": {
        "id": "yUp3mmp0PKRv"
      },
      "outputs": [],
      "source": [
        "import torch\n",
        "import torch.nn as nn\n",
        "import torch.nn.functional as F\n",
        "from sklearn.preprocessing import StandardScaler\n",
        "import pandas as pd\n",
        "import numpy as np\n",
        "import random"
      ]
    },
    {
      "cell_type": "markdown",
      "source": [
        "Seed function for reproducibility"
      ],
      "metadata": {
        "id": "ME10KxJkt7FD"
      }
    },
    {
      "cell_type": "code",
      "source": [
        "def random_seed(seed_value):\n",
        "    np.random.seed(seed_value) \n",
        "    torch.manual_seed(seed_value) \n",
        "    random.seed(seed_value) \n",
        "    torch.backends.cudnn.deterministic = True \n",
        "    torch.backends.cudnn.benchmark = False\n",
        "        \n",
        "random_seed(113) "
      ],
      "metadata": {
        "id": "FPGwM6AZt5BO"
      },
      "execution_count": null,
      "outputs": []
    },
    {
      "cell_type": "markdown",
      "source": [
        "Loading Data"
      ],
      "metadata": {
        "id": "dyqcNmyq7KJy"
      }
    },
    {
      "cell_type": "code",
      "source": [
        "datatrain = pd.read_csv('./penguins-clean-train.csv')\n",
        "datatest = pd.read_csv('./penguins-clean-test.csv')"
      ],
      "metadata": {
        "id": "mnIFxmfM7Jtu"
      },
      "execution_count": null,
      "outputs": []
    },
    {
      "cell_type": "markdown",
      "source": [
        "Data Preprocessing"
      ],
      "metadata": {
        "id": "nmAFMctY7Xcj"
      }
    },
    {
      "cell_type": "code",
      "source": [
        "#Section 1.2 Preprocessing\n",
        "\n",
        "#change string value to numeric\n",
        "datatrain.loc[datatrain['species']=='Adelie', 'species']=0\n",
        "datatrain.loc[datatrain['species']=='Gentoo', 'species']=1\n",
        "datatrain.loc[datatrain['species']=='Chinstrap', 'species']=2\n",
        "datatrain = datatrain.apply(pd.to_numeric)\n",
        "\n",
        "datatest.loc[datatest['species']=='Adelie', 'species']=0\n",
        "datatest.loc[datatest['species']=='Gentoo', 'species']=1\n",
        "datatest.loc[datatest['species']=='Chinstrap', 'species']=2\n",
        "datatest = datatest.apply(pd.to_numeric)\n",
        "\n",
        "#change dataframe to array\n",
        "datatrain_array = datatrain.values\n",
        "datatest_array = datatest.values\n",
        "\n",
        "\n",
        "#split x and y (feature and target)\n",
        "xtrain = datatrain_array[:,1:]\n",
        "ytrain = datatrain_array[:,0]\n",
        "xtest = datatest_array[:,1:]\n",
        "ytest = datatest_array[:,0]\n",
        "\n",
        "#standardize\n",
        "#palmer-penguin dataset has varying scales\n",
        "scaler = StandardScaler()\n",
        "xtrain = scaler.fit_transform(xtrain)\n",
        "xtest = scaler.transform(xtest)"
      ],
      "metadata": {
        "id": "GceYZdVd7SNr"
      },
      "execution_count": null,
      "outputs": []
    },
    {
      "cell_type": "markdown",
      "source": [
        "Optimizers"
      ],
      "metadata": {
        "id": "MIUzJbDm9rRV"
      }
    },
    {
      "cell_type": "code",
      "source": [
        "#@title ADAM\n",
        "import math\n",
        "from torch.optim import Optimizer\n",
        "\n",
        "class ADAMITOptimizer(Optimizer):\n",
        "    \"\"\"\n",
        "    implements ADAM Algorithm, as a preceding step.\n",
        "    \"\"\"\n",
        "    def __init__(self, params, lr=0.001, betas=(0.9, 0.999), eps=1e-08, weight_decay=0, amsgrad=False):\n",
        "        defaults = dict(lr=lr, betas=betas, eps=eps, weight_decay=weight_decay)\n",
        "        super(ADAMITOptimizer, self).__init__(params, defaults)\n",
        "        \n",
        "    def step(self):\n",
        "        \"\"\"\n",
        "        Performs a single optimization step.\n",
        "        \"\"\"\n",
        "        loss = None\n",
        "        for group in self.param_groups:\n",
        "\n",
        "            for p in group['params']:\n",
        "                grad = p.grad.data\n",
        "                state = self.state[p]\n",
        "\n",
        "                # State initialization\n",
        "                if len(state) == 0:\n",
        "                    state['step'] = 0\n",
        "                    # Momentum (Exponential MA of gradients)\n",
        "                    state['exp_avg'] = torch.zeros_like(p.data)\n",
        "                    #print(p.data.size())\n",
        "                    # RMS Prop componenet. (Exponential MA of squared gradients). Denominator.\n",
        "                    state['exp_avg_sq'] = torch.zeros_like(p.data)\n",
        "                    \n",
        "                exp_avg, exp_avg_sq = state['exp_avg'], state['exp_avg_sq']\n",
        "\n",
        "                b1, b2 = group['betas']\n",
        "                state['step'] += 1\n",
        "                \n",
        "                # L2 penalty. Gotta add to Gradient as well.\n",
        "                if group['weight_decay'] != 0:\n",
        "                    grad = grad.add(group['weight_decay'], p.data)\n",
        "\n",
        "                # Momentum\n",
        "                exp_avg = torch.mul(exp_avg, b1) + (1 - b1)*grad\n",
        "                # RMS\n",
        "                exp_avg_sq = torch.mul(exp_avg_sq, b2) + (1-b2)*(grad*grad)\n",
        "                \n",
        "                denom = exp_avg_sq.sqrt() + group['eps']\n",
        "\n",
        "                bias_correction1 = 1 / (1 - b1 ** state['step'])\n",
        "                bias_correction2 = 1 / (1 - b2 ** state['step'])\n",
        "                \n",
        "                adapted_learning_rate = group['lr'] * bias_correction1 / math.sqrt(bias_correction2)\n",
        "\n",
        "                p.data = p.data - adapted_learning_rate * exp_avg / denom \n",
        "                \n",
        "                if state['step']  % 10000 ==0:\n",
        "                    print (\"group:\", group)\n",
        "                    print(\"p: \",p)\n",
        "                    print(\"p.data: \", p.data) # W = p.data\n",
        "                \n",
        "        return loss"
      ],
      "metadata": {
        "cellView": "form",
        "id": "3SRustzD9tCv"
      },
      "execution_count": null,
      "outputs": []
    },
    {
      "cell_type": "code",
      "source": [
        "#@title AdaBound\n",
        "import math\n",
        "import torch\n",
        "from torch.optim import Optimizer\n",
        "\n",
        "\n",
        "class AdaBound(Optimizer):\n",
        "    \"\"\"Implements AdaBound algorithm.\n",
        "    It has been proposed in `Adaptive Gradient Methods with Dynamic Bound of Learning Rate`_.\n",
        "    Arguments:\n",
        "        params (iterable): iterable of parameters to optimize or dicts defining\n",
        "            parameter groups\n",
        "        lr (float, optional): Adam learning rate (default: 1e-3)\n",
        "        betas (Tuple[float, float], optional): coefficients used for computing\n",
        "            running averages of gradient and its square (default: (0.9, 0.999))\n",
        "        final_lr (float, optional): final (SGD) learning rate (default: 0.1)\n",
        "        gamma (float, optional): convergence speed of the bound functions (default: 1e-3)\n",
        "        eps (float, optional): term added to the denominator to improve\n",
        "            numerical stability (default: 1e-8)\n",
        "        weight_decay (float, optional): weight decay (L2 penalty) (default: 0)\n",
        "        amsbound (boolean, optional): whether to use the AMSBound variant of this algorithm\n",
        "    .. Adaptive Gradient Methods with Dynamic Bound of Learning Rate:\n",
        "        https://openreview.net/forum?id=Bkg3g2R9FX\n",
        "    \"\"\"\n",
        "\n",
        "    def __init__(self, params, lr=1e-3, betas=(0.9, 0.999), final_lr=0.1, gamma=1e-3,\n",
        "                 eps=1e-8, weight_decay=0, amsbound=False):\n",
        "        if not 0.0 <= lr:\n",
        "            raise ValueError(\"Invalid learning rate: {}\".format(lr))\n",
        "        if not 0.0 <= eps:\n",
        "            raise ValueError(\"Invalid epsilon value: {}\".format(eps))\n",
        "        if not 0.0 <= betas[0] < 1.0:\n",
        "            raise ValueError(\"Invalid beta parameter at index 0: {}\".format(betas[0]))\n",
        "        if not 0.0 <= betas[1] < 1.0:\n",
        "            raise ValueError(\"Invalid beta parameter at index 1: {}\".format(betas[1]))\n",
        "        if not 0.0 <= final_lr:\n",
        "            raise ValueError(\"Invalid final learning rate: {}\".format(final_lr))\n",
        "        if not 0.0 <= gamma < 1.0:\n",
        "            raise ValueError(\"Invalid gamma parameter: {}\".format(gamma))\n",
        "        defaults = dict(lr=lr, betas=betas, final_lr=final_lr, gamma=gamma, eps=eps,\n",
        "                        weight_decay=weight_decay, amsbound=amsbound)\n",
        "        super(AdaBound, self).__init__(params, defaults)\n",
        "\n",
        "        self.base_lrs = list(map(lambda group: group['lr'], self.param_groups))\n",
        "\n",
        "    def __setstate__(self, state):\n",
        "        super(AdaBound, self).__setstate__(state)\n",
        "        for group in self.param_groups:\n",
        "            group.setdefault('amsbound', False)\n",
        "\n",
        "    def step(self, closure=None):\n",
        "        \"\"\"Performs a single optimization step.\n",
        "        Arguments:\n",
        "            closure (callable, optional): A closure that reevaluates the model\n",
        "                and returns the loss.\n",
        "        \"\"\"\n",
        "        loss = None\n",
        "        if closure is not None:\n",
        "            loss = closure()\n",
        "\n",
        "        for group, base_lr in zip(self.param_groups, self.base_lrs):\n",
        "            for p in group['params']:\n",
        "                if p.grad is None:\n",
        "                    continue\n",
        "                grad = p.grad.data\n",
        "                if grad.is_sparse:\n",
        "                    raise RuntimeError(\n",
        "                        'Adam does not support sparse gradients, please consider SparseAdam instead')\n",
        "                amsbound = group['amsbound']\n",
        "\n",
        "                state = self.state[p]\n",
        "\n",
        "                # State initialization\n",
        "                if len(state) == 0:\n",
        "                    state['step'] = 0\n",
        "                    # Exponential moving average of gradient values\n",
        "                    state['exp_avg'] = torch.zeros_like(p.data)\n",
        "                    # Exponential moving average of squared gradient values\n",
        "                    state['exp_avg_sq'] = torch.zeros_like(p.data)\n",
        "                    if amsbound:\n",
        "                        # Maintains max of all exp. moving avg. of sq. grad. values\n",
        "                        state['max_exp_avg_sq'] = torch.zeros_like(p.data)\n",
        "\n",
        "                exp_avg, exp_avg_sq = state['exp_avg'], state['exp_avg_sq']\n",
        "                if amsbound:\n",
        "                    max_exp_avg_sq = state['max_exp_avg_sq']\n",
        "                beta1, beta2 = group['betas']\n",
        "\n",
        "                state['step'] += 1\n",
        "\n",
        "                if group['weight_decay'] != 0:\n",
        "                    grad = grad.add(group['weight_decay'], p.data)\n",
        "\n",
        "                # Decay the first and second moment running average coefficient\n",
        "                exp_avg.mul_(beta1).add_(1 - beta1, grad)\n",
        "                exp_avg_sq.mul_(beta2).addcmul_(1 - beta2, grad, grad)\n",
        "                if amsbound:\n",
        "                    # Maintains the maximum of all 2nd moment running avg. till now\n",
        "                    torch.max(max_exp_avg_sq, exp_avg_sq, out=max_exp_avg_sq)\n",
        "                    # Use the max. for normalizing running avg. of gradient\n",
        "                    denom = max_exp_avg_sq.sqrt().add_(group['eps'])\n",
        "                else:\n",
        "                    denom = exp_avg_sq.sqrt().add_(group['eps'])\n",
        "\n",
        "                bias_correction1 = 1 - beta1 ** state['step']\n",
        "                bias_correction2 = 1 - beta2 ** state['step']\n",
        "                step_size = group['lr'] * math.sqrt(bias_correction2) / bias_correction1\n",
        "\n",
        "                # Applies bounds on actual learning rate\n",
        "                # lr_scheduler cannot affect final_lr, this is a workaround to apply lr decay\n",
        "                final_lr = group['final_lr'] * group['lr'] / base_lr\n",
        "                lower_bound = final_lr * (1 - 1 / (group['gamma'] * state['step'] + 1))\n",
        "                upper_bound = final_lr * (1 + 1 / (group['gamma'] * state['step']))\n",
        "                step_size = torch.full_like(denom, step_size)\n",
        "                step_size.div_(denom).clamp_(lower_bound, upper_bound).mul_(exp_avg)\n",
        "\n",
        "                p.data.add_(-step_size)\n",
        "\n",
        "        return loss"
      ],
      "metadata": {
        "cellView": "form",
        "id": "1izqtgCu91Gh"
      },
      "execution_count": null,
      "outputs": []
    },
    {
      "cell_type": "code",
      "source": [
        "#@title ND-Adam\n",
        "import math\n",
        "import torch\n",
        "from torch.optim import Optimizer\n",
        "\n",
        "\n",
        "class NDAdam(Optimizer):\n",
        "\n",
        "    def __init__(self, params, lr=1e-3, betas=(0.9, 0.999), eps=1e-8,\n",
        "                 weight_decay=0, vec_axes=None):\n",
        "        defaults = dict(lr=lr, betas=betas, eps=eps,\n",
        "                        weight_decay=weight_decay, vec_axes=vec_axes)\n",
        "        super(NDAdam, self).__init__(params, defaults)\n",
        "\n",
        "    def step(self, closure=None):\n",
        "        loss = None\n",
        "        if closure is not None:\n",
        "            loss = closure()\n",
        "\n",
        "        for group in self.param_groups:\n",
        "            for p in group['params']:\n",
        "                if p.grad is None:\n",
        "                    continue\n",
        "                grad = p.grad.data\n",
        "                if grad.is_sparse:\n",
        "                    raise RuntimeError('ND-Adam does not support sparse gradients, please consider SparseAdam instead')\n",
        "\n",
        "                state = self.state[p]\n",
        "\n",
        "                if group['weight_decay'] != 0:\n",
        "                    grad = grad.add(group['weight_decay'], p.data)\n",
        "\n",
        "                # State initialization\n",
        "                if len(state) == 0:\n",
        "                    state['step'] = 0\n",
        "                    # Exponential moving average of gradient values\n",
        "                    state['exp_avg'] = torch.zeros_like(p.data)\n",
        "                    # Exponential moving average of squared gradient values\n",
        "                    if group['vec_axes']:\n",
        "                        shape = list(p.size())\n",
        "                        for i in group['vec_axes']:\n",
        "                            shape[i] = 1\n",
        "                        state['exp_avg_sq'] = torch.zeros(shape)\n",
        "                        if torch.cuda.is_available():\n",
        "                            state['exp_avg_sq'] = state['exp_avg_sq'].cuda()\n",
        "                    else:\n",
        "                        state['exp_avg_sq'] = torch.zeros_like(p.data)\n",
        "\n",
        "                exp_avg, exp_avg_sq = state['exp_avg'], state['exp_avg_sq']\n",
        "                beta1, beta2 = group['betas']\n",
        "\n",
        "                state['step'] += 1\n",
        "\n",
        "                # Decay the first and second moment running average coefficient\n",
        "                if group['vec_axes']:\n",
        "                    g_proj = grad * p.data\n",
        "                    for i in group['vec_axes']:\n",
        "                        g_proj = torch.sum(g_proj, i, True)\n",
        "                    grad.add_(-g_proj * p.data)\n",
        "                    exp_avg.mul_(beta1).add_(1 - beta1, grad)\n",
        "                    g_sqr = grad * grad\n",
        "                    for i in group['vec_axes']:\n",
        "                        g_sqr = torch.sum(g_sqr, i, True)\n",
        "                    exp_avg_sq.mul_(beta2).add_(1 - beta2, g_sqr)\n",
        "                else:\n",
        "                    exp_avg.mul_(beta1).add_(1 - beta1, grad)\n",
        "                    exp_avg_sq.mul_(beta2).addcmul_(1 - beta2, grad, grad)\n",
        "\n",
        "                denom = exp_avg_sq.sqrt().add_(group['eps'])\n",
        "\n",
        "                bias_correction1 = 1 - beta1 ** state['step']\n",
        "                bias_correction2 = 1 - beta2 ** state['step']\n",
        "                step_size = group['lr'] * math.sqrt(bias_correction2) / bias_correction1\n",
        "\n",
        "                p.data.addcdiv_(-step_size, exp_avg, denom)\n",
        "\n",
        "                if group['vec_axes']:\n",
        "                    norm = p.data * p.data\n",
        "                    for i in group['vec_axes']:\n",
        "                        norm = torch.sum(norm, i, True)\n",
        "                    norm.sqrt_()\n",
        "                    p.data.div_(norm)\n",
        "\n",
        "        return loss"
      ],
      "metadata": {
        "cellView": "form",
        "id": "2jZSv9b492RI"
      },
      "execution_count": null,
      "outputs": []
    },
    {
      "cell_type": "markdown",
      "source": [
        "Define the MLP Model"
      ],
      "metadata": {
        "id": "jqsnNFbD97XT"
      }
    },
    {
      "cell_type": "code",
      "source": [
        "## Define the NN architecture\n",
        "class Net(nn.Module):\n",
        "    def __init__(self):\n",
        "        super(Net, self).__init__()\n",
        "        self.fc1 = nn.Linear(4, hl)\n",
        "        self.fc2 = nn.Linear(hl,3)\n",
        "        self.dropout = nn.Dropout(0.2)\n",
        "\n",
        "    def forward(self, x):\n",
        "        x = F.relu(self.fc1(x))\n",
        "        x = self.fc2(x)\n",
        "        return x\n",
        "\n",
        "# initialize the NN\n",
        "model = Net()\n",
        "print(model)\n",
        "\n",
        "# loss function\n",
        "criterion = nn.CrossEntropyLoss()\n"
      ],
      "metadata": {
        "id": "c8bq3ZO2VSlz",
        "colab": {
          "base_uri": "https://localhost:8080/"
        },
        "outputId": "234cac6a-706c-4837-a683-168c6cc26113"
      },
      "execution_count": null,
      "outputs": [
        {
          "output_type": "stream",
          "name": "stdout",
          "text": [
            "Net(\n",
            "  (fc1): Linear(in_features=4, out_features=20, bias=True)\n",
            "  (fc2): Linear(in_features=20, out_features=3, bias=True)\n",
            "  (dropout): Dropout(p=0.2, inplace=False)\n",
            ")\n"
          ]
        }
      ]
    },
    {
      "cell_type": "markdown",
      "source": [
        "Train"
      ],
      "metadata": {
        "id": "cWzAQf8gJ-RE"
      }
    },
    {
      "cell_type": "code",
      "source": [
        "def train(n_epochs):\n",
        "  X = torch.Tensor(xtrain).float()\n",
        "  Y = torch.Tensor(ytrain).long()\n",
        "  model.train() # prep model for training\n",
        "  # monitor training loss\n",
        "  train_loss = 0.0\n",
        "  # clear the gradients of all optimized variables\n",
        "  optimizer.zero_grad()\n",
        "  # forward pass: compute predicted outputs by passing inputs to the model\n",
        "  output = model(X)\n",
        "  # calculate the loss\n",
        "  loss = criterion(output, Y)\n",
        "  # backward pass: compute gradient of the loss with respect to model parameters\n",
        "  loss.backward()\n",
        "  # perform a single optimization step (parameter update)\n",
        "  optimizer.step()\n",
        "  # update running training loss\n",
        "  acc = 100 * torch.sum(Y==torch.max(output.data, 1)[1]).double() / len(Y)\n",
        "  return acc.item(),loss.item()\n",
        "  print ('Epoch [%d/%d] Loss: %.4f   Acc: %.4f' %(epoch+1, num_epoch, loss.item(), acc.item()))\n",
        "    "
      ],
      "metadata": {
        "id": "N4kAux9gJRzJ"
      },
      "execution_count": null,
      "outputs": []
    },
    {
      "cell_type": "markdown",
      "source": [
        "Test"
      ],
      "metadata": {
        "id": "MLUw5XIWJ9Q6"
      }
    },
    {
      "cell_type": "code",
      "source": [
        "def test(n_epochs):\n",
        "  X = torch.Tensor(xtest).float()\n",
        "  Y = torch.Tensor(ytest).long()\n",
        "\n",
        "  model.eval() # prep model for training\n",
        "  # monitor training loss\n",
        "  test_loss = 0.0\n",
        "  # clear the gradients of all optimized variables\n",
        "  optimizer.zero_grad()\n",
        "  # forward pass: compute predicted outputs by passing inputs to the model\n",
        "  output = model(X)\n",
        "  # calculate the loss\n",
        "  loss = criterion(output, Y)\n",
        "  # backward pass: compute gradient of the loss with respect to model parameters\n",
        "  loss.backward()\n",
        "  # perform a single optimization step (parameter update)\n",
        "  optimizer.step()\n",
        "  # update running training loss\n",
        "  acc = 100 * torch.sum(Y==torch.max(output.data, 1)[1]).double() / len(Y)\n",
        "  #test_accu.append(acc)\n",
        "  return acc.item(), loss.item()\n",
        "  print ('Epoch [%d/%d] Loss: %.4f   Acc: %.4f' %(epoch+1, num_epoch, loss.item(), acc.item()))\n",
        "    "
      ],
      "metadata": {
        "id": "EbmrpAhIxhQP"
      },
      "execution_count": null,
      "outputs": []
    },
    {
      "cell_type": "code",
      "source": [
        "def SelectOpt(x):\n",
        "  if x == 1:\n",
        "    optimizer = ADAMITOptimizer(model.parameters())\n",
        "    return optimizer\n",
        "  if x == 2:\n",
        "    optimizer = AdaBound(model.parameters())\n",
        "    return optimizer\n",
        "  else:\n",
        "    optimizer = NDAdam(model.parameters())\n",
        "    return optimizer"
      ],
      "metadata": {
        "id": "p3VGcdtKyUsW"
      },
      "execution_count": null,
      "outputs": []
    },
    {
      "cell_type": "code",
      "source": [
        "train_accu_Adam=[0,]\n",
        "train_losses_Adam=[0,]\n",
        "eval_losses_Adam=[0,]\n",
        "eval_accu_Adam=[0,]\n",
        "train_accu_AdaBound=[0,]\n",
        "train_losses_AdaBound=[0,]\n",
        "eval_losses_AdaBound=[0,]\n",
        "eval_accu_AdaBound=[0,]\n",
        "train_accu_NDAdam=[0,]\n",
        "train_losses_NDAdam=[0,]\n",
        "eval_losses_NDAdam=[0,]\n",
        "eval_accu_NDAdam=[0,]\n",
        "\n",
        "epochs=50\n",
        "\n",
        "for x in range(1,4):\n",
        "  print(x)\n",
        "  optimizer = SelectOpt(x)\n",
        "  print('Optimizer: %s' % optimizer)\n",
        "\n",
        "  for epoch in range(1,epochs+1):\n",
        "    train_accu,train_loss = train(epoch)\n",
        "    test_accu,test_loss = test(epoch)\n",
        "    if x == 1:\n",
        "      train_accu_Adam.append(train_accu)\n",
        "      train_losses_Adam.append(train_loss)\n",
        "      eval_losses_Adam.append(test_loss)\n",
        "      eval_accu_Adam.append(test_accu)\n",
        "    if x == 2:\n",
        "      train_accu_AdaBound.append(train_accu)\n",
        "      train_losses_AdaBound.append(train_loss)\n",
        "      eval_losses_AdaBound.append(test_loss)\n",
        "      eval_accu_AdaBound.append(test_accu)\n",
        "    if x == 3:\n",
        "      train_accu_NDAdam.append(train_accu)\n",
        "      train_losses_NDAdam.append(train_loss)\n",
        "      eval_losses_NDAdam.append(test_loss)\n",
        "      eval_accu_NDAdam.append(test_accu)"
      ],
      "metadata": {
        "colab": {
          "base_uri": "https://localhost:8080/"
        },
        "id": "HgPXTRrYyVfs",
        "outputId": "db5b0943-bb8c-410a-f1ea-1e351353a23f"
      },
      "execution_count": null,
      "outputs": [
        {
          "output_type": "stream",
          "name": "stdout",
          "text": [
            "1\n",
            "Optimizer: ADAMITOptimizer (\n",
            "Parameter Group 0\n",
            "    betas: (0.9, 0.999)\n",
            "    eps: 1e-08\n",
            "    lr: 0.001\n",
            "    weight_decay: 0\n",
            ")\n",
            "2\n",
            "Optimizer: AdaBound (\n",
            "Parameter Group 0\n",
            "    amsbound: False\n",
            "    betas: (0.9, 0.999)\n",
            "    eps: 1e-08\n",
            "    final_lr: 0.1\n",
            "    gamma: 0.001\n",
            "    lr: 0.001\n",
            "    weight_decay: 0\n",
            ")\n",
            "3\n",
            "Optimizer: NDAdam (\n",
            "Parameter Group 0\n",
            "    betas: (0.9, 0.999)\n",
            "    eps: 1e-08\n",
            "    lr: 0.001\n",
            "    vec_axes: None\n",
            "    weight_decay: 0\n",
            ")\n"
          ]
        },
        {
          "output_type": "stream",
          "name": "stderr",
          "text": [
            "/usr/local/lib/python3.7/dist-packages/ipykernel_launcher.py:95: UserWarning: This overload of add_ is deprecated:\n",
            "\tadd_(Number alpha, Tensor other)\n",
            "Consider using one of the following signatures instead:\n",
            "\tadd_(Tensor other, *, Number alpha) (Triggered internally at  ../torch/csrc/utils/python_arg_parser.cpp:1050.)\n"
          ]
        }
      ]
    },
    {
      "cell_type": "code",
      "source": [
        "train_accu_Adam"
      ],
      "metadata": {
        "colab": {
          "base_uri": "https://localhost:8080/"
        },
        "id": "krs-dCbf0Shv",
        "outputId": "cf1cbe36-265e-4b90-e1cd-a1b1eba18325"
      },
      "execution_count": null,
      "outputs": [
        {
          "output_type": "execute_result",
          "data": {
            "text/plain": [
              "[0,\n",
              " 45.0,\n",
              " 45.0,\n",
              " 45.0,\n",
              " 46.666666666666664,\n",
              " 49.583333333333336,\n",
              " 52.083333333333336,\n",
              " 55.0,\n",
              " 56.25,\n",
              " 59.166666666666664,\n",
              " 62.916666666666664,\n",
              " 65.0,\n",
              " 68.75,\n",
              " 70.83333333333333,\n",
              " 73.33333333333333,\n",
              " 77.08333333333333,\n",
              " 77.5,\n",
              " 77.91666666666667,\n",
              " 79.16666666666667,\n",
              " 80.0,\n",
              " 80.0,\n",
              " 80.0,\n",
              " 80.0,\n",
              " 80.0,\n",
              " 80.0,\n",
              " 80.0,\n",
              " 80.0,\n",
              " 80.0,\n",
              " 80.0,\n",
              " 80.0,\n",
              " 80.0,\n",
              " 80.0,\n",
              " 80.0,\n",
              " 80.0,\n",
              " 80.0,\n",
              " 80.0,\n",
              " 80.0,\n",
              " 80.0,\n",
              " 80.0,\n",
              " 80.0,\n",
              " 80.0,\n",
              " 80.0,\n",
              " 80.0,\n",
              " 80.0,\n",
              " 80.0,\n",
              " 80.0,\n",
              " 80.0,\n",
              " 80.0,\n",
              " 80.0,\n",
              " 80.0,\n",
              " 80.0]"
            ]
          },
          "metadata": {},
          "execution_count": 15
        }
      ]
    },
    {
      "cell_type": "code",
      "source": [
        "import matplotlib.pyplot as plt\n",
        "plt.plot(train_accu_Adam)\n",
        "plt.plot(train_accu_AdaBound)\n",
        "plt.plot(train_accu_NDAdam)\n",
        "plt.xlabel('epoch')\n",
        "plt.xlim(1, epoch)\n",
        "plt.ylabel('accuracy')\n",
        "plt.legend(['Adam','AdaBound','NDAdam'])\n",
        "plt.title('Train Accuracy')\n",
        "\n",
        "plt.show()"
      ],
      "metadata": {
        "colab": {
          "base_uri": "https://localhost:8080/",
          "height": 295
        },
        "id": "flPawHemyUbf",
        "outputId": "b0a5b105-c955-413c-d74c-84c2a0856a00"
      },
      "execution_count": null,
      "outputs": [
        {
          "output_type": "display_data",
          "data": {
            "text/plain": [
              "<Figure size 432x288 with 1 Axes>"
            ],
            "image/png": "[encoded data removed]"
          },
          "metadata": {
            "needs_background": "light"
          }
        }
      ]
    },
    {
      "cell_type": "code",
      "source": [
        "plt.plot(train_losses_Adam)\n",
        "plt.plot(train_losses_AdaBound)\n",
        "plt.plot(train_losses_NDAdam)\n",
        "plt.xlabel('epoch')\n",
        "plt.xlim(1, epoch)\n",
        "plt.ylabel('loss')\n",
        "plt.legend(['Adam','AdaBound','NDAdam'])\n",
        "plt.title('Train Losses')\n",
        "\n",
        "plt.show()"
      ],
      "metadata": {
        "id": "hl06s16HJXFc",
        "colab": {
          "base_uri": "https://localhost:8080/",
          "height": 295
        },
        "outputId": "b9930168-8abc-4763-8fa0-da4d3e9689fc"
      },
      "execution_count": null,
      "outputs": [
        {
          "output_type": "display_data",
          "data": {
            "text/plain": [
              "<Figure size 432x288 with 1 Axes>"
            ],
            "image/png": "[encoded data removed]"
          },
          "metadata": {
            "needs_background": "light"
          }
        }
      ]
    },
    {
      "cell_type": "code",
      "source": [
        "plt.plot(eval_accu_Adam)\n",
        "plt.plot(eval_accu_AdaBound)\n",
        "plt.plot(eval_accu_NDAdam)\n",
        "plt.xlabel('epoch')\n",
        "plt.xlim(1, epoch)\n",
        "plt.ylabel('accuracy')\n",
        "plt.legend(['Adam','AdaBound','NDAdam'])\n",
        "plt.title('Test Accuracy')\n",
        "\n",
        "plt.show()"
      ],
      "metadata": {
        "colab": {
          "base_uri": "https://localhost:8080/",
          "height": 295
        },
        "id": "TGowFiKm0swF",
        "outputId": "98799e18-1318-477d-e365-be6018a8cf52"
      },
      "execution_count": null,
      "outputs": [
        {
          "output_type": "display_data",
          "data": {
            "text/plain": [
              "<Figure size 432x288 with 1 Axes>"
            ],
            "image/png": "[encoded data removed]"
          },
          "metadata": {
            "needs_background": "light"
          }
        }
      ]
    },
    {
      "cell_type": "code",
      "source": [
        "plt.plot(eval_losses_Adam)\n",
        "plt.plot(eval_losses_AdaBound)\n",
        "plt.plot(eval_losses_NDAdam)\n",
        "plt.xlabel('epoch')\n",
        "plt.xlim(1, epoch)\n",
        "plt.ylabel('loss')\n",
        "plt.legend(['Adam','AdaBound','NDAdam'])\n",
        "plt.title('Test Losses')\n",
        "\n",
        "plt.show()"
      ],
      "metadata": {
        "colab": {
          "base_uri": "https://localhost:8080/",
          "height": 295
        },
        "id": "Pv7uPPAy0ubY",
        "outputId": "f541dbf2-ce2c-40b3-c395-5b214793a311"
      },
      "execution_count": null,
      "outputs": [
        {
          "output_type": "display_data",
          "data": {
            "text/plain": [
              "<Figure size 432x288 with 1 Axes>"
            ],
            "image/png": "[encoded data removed]"
          },
          "metadata": {
            "needs_background": "light"
          }
        }
      ]
    }
  ]
}